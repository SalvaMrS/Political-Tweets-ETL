{
 "cells": [
  {
   "cell_type": "markdown",
   "metadata": {},
   "source": [
    "## **Importacion de librerias**"
   ]
  },
  {
   "cell_type": "code",
   "execution_count": 6,
   "metadata": {},
   "outputs": [],
   "source": [
    "import pandas as pd\n",
    "import matplotlib.pyplot as plt\n",
    "import seaborn as sns\n",
    "\n",
    "%matplotlib inline"
   ]
  },
  {
   "cell_type": "markdown",
   "metadata": {},
   "source": [
    "## **Carga Datos**"
   ]
  },
  {
   "cell_type": "code",
   "execution_count": 7,
   "metadata": {},
   "outputs": [
    {
     "name": "stdout",
     "output_type": "stream",
     "text": [
      "   id                                               user  \\\n",
      "0   1  {'username': 'newsjunkie', 'handle': '@newsjun...   \n",
      "1   2  {'username': 'codeandpolitics', 'handle': '@co...   \n",
      "2   3  {'username': 'voxlibre', 'handle': '@voxlibre'...   \n",
      "3   4  {'username': 'joao', 'handle': '@joao', 'verif...   \n",
      "4   5  {'username': 'policywonk', 'handle': '@policyw...   \n",
      "\n",
      "                                                meta  \\\n",
      "0  {'created_at': '2025-02-19', 'hashtags': ['#Ta...   \n",
      "1  {'created_at': '2025-04-03', 'hashtags': ['#Ed...   \n",
      "2  {'created_at': '2025-02-19', 'hashtags': ['#Vo...   \n",
      "3  {'created_at': '2025-01-10', 'hashtags': ['#Ta...   \n",
      "4  {'created_at': '2025-03-29', 'hashtags': ['#Bu...   \n",
      "\n",
      "                                             payload  \\\n",
      "0  {'tweet': {'content': 'Grinning ear‑to‑ear—aft...   \n",
      "1  {'tweet': {'content': 'My heart aches watching...   \n",
      "2  {'tweet': {'content': 'Every rumor of ballooni...   \n",
      "3  {'tweet': {'content': 'Politicians clinking gl...   \n",
      "4  {'tweet': {'content': 'If this tax overhaul ge...   \n",
      "\n",
      "                              metrics  \n",
      "0   {'retweets': 4066, 'likes': 9543}  \n",
      "1  {'retweets': 2633, 'likes': 10925}  \n",
      "2  {'retweets': 3911, 'likes': 12024}  \n",
      "3   {'retweets': 241, 'likes': 12604}  \n",
      "4   {'retweets': 3690, 'likes': 7672}  \n"
     ]
    }
   ],
   "source": [
    "df_tweets = pd.read_json('tweets_dataset.json')\n",
    "\n",
    "print(df_tweets.head())"
   ]
  },
  {
   "cell_type": "markdown",
   "metadata": {},
   "source": [
    "Creamos un nuevo df con las columnas deseadas."
   ]
  },
  {
   "cell_type": "code",
   "execution_count": 8,
   "metadata": {},
   "outputs": [
    {
     "data": {
      "text/html": [
       "<div>\n",
       "<style scoped>\n",
       "    .dataframe tbody tr th:only-of-type {\n",
       "        vertical-align: middle;\n",
       "    }\n",
       "\n",
       "    .dataframe tbody tr th {\n",
       "        vertical-align: top;\n",
       "    }\n",
       "\n",
       "    .dataframe thead th {\n",
       "        text-align: right;\n",
       "    }\n",
       "</style>\n",
       "<table border=\"1\" class=\"dataframe\">\n",
       "  <thead>\n",
       "    <tr style=\"text-align: right;\">\n",
       "      <th></th>\n",
       "      <th>id</th>\n",
       "      <th>handle</th>\n",
       "      <th>created_at</th>\n",
       "      <th>hashtags</th>\n",
       "      <th>content</th>\n",
       "    </tr>\n",
       "  </thead>\n",
       "  <tbody>\n",
       "    <tr>\n",
       "      <th>0</th>\n",
       "      <td>1</td>\n",
       "      <td>@newsjunkie</td>\n",
       "      <td>2025-02-19</td>\n",
       "      <td>[#TaxReform]</td>\n",
       "      <td>Grinning ear‑to‑ear—after months of sleepless ...</td>\n",
       "    </tr>\n",
       "    <tr>\n",
       "      <th>1</th>\n",
       "      <td>2</td>\n",
       "      <td>@codeandpolitics</td>\n",
       "      <td>2025-04-03</td>\n",
       "      <td>[#Education, #Election2024]</td>\n",
       "      <td>My heart aches watching families split apart b...</td>\n",
       "    </tr>\n",
       "    <tr>\n",
       "      <th>2</th>\n",
       "      <td>3</td>\n",
       "      <td>@voxlibre</td>\n",
       "      <td>2025-02-19</td>\n",
       "      <td>[#Vote]</td>\n",
       "      <td>Every rumor of ballooning defense funds tighte...</td>\n",
       "    </tr>\n",
       "    <tr>\n",
       "      <th>3</th>\n",
       "      <td>4</td>\n",
       "      <td>@joao</td>\n",
       "      <td>2025-01-10</td>\n",
       "      <td>[#TaxReform]</td>\n",
       "      <td>Politicians clinking glasses over the election...</td>\n",
       "    </tr>\n",
       "    <tr>\n",
       "      <th>4</th>\n",
       "      <td>5</td>\n",
       "      <td>@policywonk</td>\n",
       "      <td>2025-03-29</td>\n",
       "      <td>[#Budget2025, #Freedom]</td>\n",
       "      <td>If this tax overhaul gets rubber‑stamped, stor...</td>\n",
       "    </tr>\n",
       "  </tbody>\n",
       "</table>\n",
       "</div>"
      ],
      "text/plain": [
       "   id            handle  created_at                     hashtags  \\\n",
       "0   1       @newsjunkie  2025-02-19                 [#TaxReform]   \n",
       "1   2  @codeandpolitics  2025-04-03  [#Education, #Election2024]   \n",
       "2   3         @voxlibre  2025-02-19                      [#Vote]   \n",
       "3   4             @joao  2025-01-10                 [#TaxReform]   \n",
       "4   5       @policywonk  2025-03-29      [#Budget2025, #Freedom]   \n",
       "\n",
       "                                             content  \n",
       "0  Grinning ear‑to‑ear—after months of sleepless ...  \n",
       "1  My heart aches watching families split apart b...  \n",
       "2  Every rumor of ballooning defense funds tighte...  \n",
       "3  Politicians clinking glasses over the election...  \n",
       "4  If this tax overhaul gets rubber‑stamped, stor...  "
      ]
     },
     "execution_count": 8,
     "metadata": {},
     "output_type": "execute_result"
    }
   ],
   "source": [
    "df = pd.json_normalize(df_tweets.to_dict('records'))[['id', 'user.handle', 'meta.created_at', 'meta.hashtags', 'payload.tweet.content']]\n",
    "df.columns = ['id', 'handle', 'created_at', 'hashtags', 'content']\n",
    "\n",
    "df.head()"
   ]
  },
  {
   "cell_type": "markdown",
   "metadata": {},
   "source": [
    "## **Exploración Inicial de Datos**"
   ]
  },
  {
   "cell_type": "markdown",
   "metadata": {},
   "source": [
    "Visualizamos los tipos de datos del df y la existencia de valores nulos."
   ]
  },
  {
   "cell_type": "code",
   "execution_count": 9,
   "metadata": {},
   "outputs": [
    {
     "name": "stdout",
     "output_type": "stream",
     "text": [
      "<class 'pandas.core.frame.DataFrame'>\n",
      "RangeIndex: 100 entries, 0 to 99\n",
      "Data columns (total 5 columns):\n",
      " #   Column      Non-Null Count  Dtype \n",
      "---  ------      --------------  ----- \n",
      " 0   id          100 non-null    int64 \n",
      " 1   handle      100 non-null    object\n",
      " 2   created_at  100 non-null    object\n",
      " 3   hashtags    100 non-null    object\n",
      " 4   content     100 non-null    object\n",
      "dtypes: int64(1), object(4)\n",
      "memory usage: 4.0+ KB\n"
     ]
    }
   ],
   "source": [
    "df.info()"
   ]
  },
  {
   "cell_type": "markdown",
   "metadata": {},
   "source": [
    "## **Limpieza de Datos**"
   ]
  },
  {
   "cell_type": "markdown",
   "metadata": {},
   "source": [
    "El dataset no posee valores nulos por lo que no es necesario realizar una limpieza de datos de este motivo. Sin embargo vamos a cambiar el formato de 'created_at' por datetime para facilitar su manejo."
   ]
  },
  {
   "cell_type": "code",
   "execution_count": 10,
   "metadata": {},
   "outputs": [
    {
     "name": "stdout",
     "output_type": "stream",
     "text": [
      "<class 'pandas.core.frame.DataFrame'>\n",
      "RangeIndex: 100 entries, 0 to 99\n",
      "Data columns (total 5 columns):\n",
      " #   Column      Non-Null Count  Dtype         \n",
      "---  ------      --------------  -----         \n",
      " 0   id          100 non-null    int64         \n",
      " 1   handle      100 non-null    object        \n",
      " 2   created_at  100 non-null    datetime64[ns]\n",
      " 3   hashtags    100 non-null    object        \n",
      " 4   content     100 non-null    object        \n",
      "dtypes: datetime64[ns](1), int64(1), object(3)\n",
      "memory usage: 4.0+ KB\n"
     ]
    }
   ],
   "source": [
    "df['created_at'] = pd.to_datetime(df['created_at'], format='%Y-%m-%d')\n",
    "\n",
    "df.info()"
   ]
  },
  {
   "cell_type": "markdown",
   "metadata": {},
   "source": [
    "## **Visualización de Datos**"
   ]
  },
  {
   "cell_type": "markdown",
   "metadata": {},
   "source": [
    "Visualizamos la cantidad de hashtags en el dataset y cuanto aparecen en total."
   ]
  },
  {
   "cell_type": "code",
   "execution_count": 11,
   "metadata": {},
   "outputs": [
    {
     "name": "stdout",
     "output_type": "stream",
     "text": [
      "Cantidad de valores unicos en los hashtags: 10\n",
      "Cantidad de apariciones en el df:\n",
      "hashtags\n",
      "#Democracy        27\n",
      "#Election2024     23\n",
      "#Justice          22\n",
      "#Vote             22\n",
      "#Freedom          21\n",
      "#TaxReform        21\n",
      "#ClimateAction    20\n",
      "#Budget2025       20\n",
      "#Healthcare       19\n",
      "#Education        18\n",
      "Name: count, dtype: int64\n"
     ]
    }
   ],
   "source": [
    "# Visualiza la cantidad de valores unicos en los hashtags\n",
    "hashtags_uniques = df['hashtags'].explode().unique()\n",
    "print(f'Cantidad de valores unicos en los hashtags: {len(hashtags_uniques)}')\n",
    "\n",
    "# Visualiza la cantidad de apariciones en el df\n",
    "hashtags_counts = df['hashtags'].explode().value_counts()\n",
    "print('Cantidad de apariciones en el df:')\n",
    "print(hashtags_counts)"
   ]
  },
  {
   "cell_type": "code",
   "execution_count": 12,
   "metadata": {},
   "outputs": [
    {
     "data": {
      "image/png": "[encoded data removed]",
      "text/plain": [
       "<Figure size 1000x600 with 1 Axes>"
      ]
     },
     "metadata": {},
     "output_type": "display_data"
    }
   ],
   "source": [
    "# Grafica las apariciones de cada hashtag\n",
    "plt.figure(figsize=(10, 6))\n",
    "sns.barplot(x=hashtags_counts.index, y=hashtags_counts.values, alpha=0.8)\n",
    "plt.title('Cantidad de apariciones de cada hashtag')\n",
    "plt.xlabel('Hashtag')\n",
    "plt.ylabel('Cantidad de apariciones')\n",
    "plt.xticks(rotation=45)\n",
    "plt.show()"
   ]
  },
  {
   "cell_type": "markdown",
   "metadata": {},
   "source": [
    "Visualizamos la longitud de los tweets en el dataset."
   ]
  },
  {
   "cell_type": "code",
   "execution_count": 13,
   "metadata": {},
   "outputs": [
    {
     "name": "stdout",
     "output_type": "stream",
     "text": [
      "Media: 106.74\n",
      "Valor minimo: 75\n",
      "Valor maximo: 139\n"
     ]
    },
    {
     "data": {
      "text/plain": [
       "<Axes: xlabel='content', ylabel='Count'>"
      ]
     },
     "execution_count": 13,
     "metadata": {},
     "output_type": "execute_result"
    },
    {
     "data": {
      "image/png": "[encoded data removed]",
      "text/plain": [
       "<Figure size 640x480 with 1 Axes>"
      ]
     },
     "metadata": {},
     "output_type": "display_data"
    }
   ],
   "source": [
    "print(f\"Media: {df['content'].str.len().mean()}\")\n",
    "print(f\"Valor minimo: {df['content'].str.len().min()}\")\n",
    "print(f\"Valor maximo: {df['content'].str.len().max()}\")\n",
    "sns.histplot(data=df, x=df['content'].str.len())\n"
   ]
  }
 ],
 "metadata": {
  "kernelspec": {
   "display_name": ".venv",
   "language": "python",
   "name": "python3"
  },
  "language_info": {
   "codemirror_mode": {
    "name": "ipython",
    "version": 3
   },
   "file_extension": ".py",
   "mimetype": "text/x-python",
   "name": "python",
   "nbconvert_exporter": "python",
   "pygments_lexer": "ipython3",
   "version": "3.11.12"
  }
 },
 "nbformat": 4,
 "nbformat_minor": 2
}
